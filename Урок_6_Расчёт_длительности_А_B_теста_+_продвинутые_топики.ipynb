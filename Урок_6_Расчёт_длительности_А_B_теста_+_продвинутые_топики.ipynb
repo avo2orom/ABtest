{
  "nbformat": 4,
  "nbformat_minor": 0,
  "metadata": {
    "colab": {
      "provenance": [],
      "authorship_tag": "ABX9TyO91gi/czrGOjDXQBshYPY2"
    },
    "kernelspec": {
      "name": "python3",
      "display_name": "Python 3"
    },
    "language_info": {
      "name": "python"
    }
  },
  "cells": [
    {
      "cell_type": "markdown",
      "source": [
        "Продакт на главной mail.ru решил протестировать в рекомендательной ленте контента вместо карточек со статьями видеоплеер с короткими видео. Нынешний таймспент на юзера в день в среднем равен 25 минут, а стандартная ошибка (SD) равна 156. Мы предполагаем, что в новой версии таймспент на юзера в день изменится на 10%. Средний трафик 20000 человек в день. Посчитайте сколько дней необходимо держать эксперимент при alpha = 5% и beta = 20% .\n",
        "\n",
        "Наша продуктовая команда в ecommerce магазине планирует запустить тест, направленный на ускорение загрузки сайта. Одна из основных метрик bounce rate в GA = 40%. Мы предполагаем, что при оптимизации сайта она изменится минимум на 20%.Средний трафик 4000 человек в день. Посчитайте сколько нам нужно дней держать эксперимент при alpha = 5% и beta = 20%"
      ],
      "metadata": {
        "id": "AYF3ttINQtKO"
      }
    },
    {
      "cell_type": "code",
      "source": [
        "import numpy as np\n",
        "from scipy.stats import norm, t\n",
        "import math\n",
        "import scipy.stats as stats"
      ],
      "metadata": {
        "id": "GiOzyp6UQuBN"
      },
      "execution_count": 8,
      "outputs": []
    },
    {
      "cell_type": "code",
      "source": [
        "n = 20000  # среднее количество юзеров в день\n",
        "sd = 156  # стандартная ошибка\n",
        "alpha = 0.05  # уровень значимости\n",
        "beta = 0.2  # вероятность ошибки второго рода\n",
        "prop_diff = 0.1  # относительное изменение таймспента"
      ],
      "metadata": {
        "id": "LOyYJALqQwkN"
      },
      "execution_count": 2,
      "outputs": []
    },
    {
      "cell_type": "code",
      "source": [
        "se = sd / np.sqrt(n)  # стандартная ошибка среднего\n",
        "m = se * norm.ppf(1 - alpha/2)  # граница для доверительного интервала\n",
        "delta = prop_diff * n  # абсолютное изменение таймспента"
      ],
      "metadata": {
        "id": "viw_isBWQ0kN"
      },
      "execution_count": 4,
      "outputs": []
    },
    {
      "cell_type": "code",
      "source": [
        "z_alpha = norm.ppf(1 - alpha)\n",
        "z_beta = norm.ppf(1 - beta)"
      ],
      "metadata": {
        "id": "3QVKzq1hQ3Q1"
      },
      "execution_count": 5,
      "outputs": []
    },
    {
      "cell_type": "code",
      "source": [
        "n_1 = (z_alpha*m + z_beta*sd/delta)**2\n",
        "n_2 = (z_alpha*m - z_beta*sd/delta)**2\n",
        "n_round = np.ceil(max(n_1, n_2))\n",
        "days = np.ceil(n_round/n)  # количество дней"
      ],
      "metadata": {
        "id": "IoL7uJBOQ7Xm"
      },
      "execution_count": 6,
      "outputs": []
    },
    {
      "cell_type": "code",
      "source": [
        "print(f\"Необходимо собрать данные в течении {int(days)} дней\")"
      ],
      "metadata": {
        "colab": {
          "base_uri": "https://localhost:8080/"
        },
        "id": "FqKVAgQoQ96N",
        "outputId": "ff262e37-1d6e-44a0-99da-a1ec295a75e3"
      },
      "execution_count": 7,
      "outputs": [
        {
          "output_type": "stream",
          "name": "stdout",
          "text": [
            "Необходимо собрать данные в течении 1 дней\n"
          ]
        }
      ]
    },
    {
      "cell_type": "markdown",
      "source": [
        "2.) Наша продуктовая команда в ecommerce магазине планирует запустить тест, направленный на ускорение загрузки сайта.\n",
        "\n",
        "Одна из основных метрик bounce rate в GA = 40%.\n",
        "\n",
        "Мы предполагаем, что при оптимизации сайта она изменится минимум на 20%.\n",
        "\n",
        "Средний трафик 4000 человек в день. Посчитайте сколько нам нужно дней держать эксперимент при alpha = 5% и beta = 20%"
      ],
      "metadata": {
        "id": "b-N5U8CbREWm"
      }
    },
    {
      "cell_type": "code",
      "source": [
        "def sample_size(mean1, mean2, alpha, beta, power, baseline):\n",
        "    std1 = math.sqrt(baseline * (1 - baseline))\n",
        "    z_alpha = stats.norm.ppf(1 - alpha / 2)\n",
        "    z_beta = stats.norm.ppf(power)\n",
        "    std2 = std1 * math.sqrt((baseline - mean2) ** 2 / (mean1 - mean2) ** 2)\n",
        "    return ((std1 * z_alpha + std2 * z_beta) / (mean1 - mean2)) ** 2"
      ],
      "metadata": {
        "id": "03QPytTQROjW"
      },
      "execution_count": 10,
      "outputs": []
    },
    {
      "cell_type": "markdown",
      "source": [
        "Где:\n",
        "\n",
        "mean1 - текущее значение bounce rate (40%)\\\n",
        "mean2 - ожидаемое изменение bounce rate после оптимизации сайта (-20%)\\\n",
        "alpha - уровень значимости (0.05)\\\n",
        "beta - мощность теста (0.2)\\\n",
        "baseline - текущее значение bounce rate (40%)\\\n",
        "Теперь вызовем функцию c округлением до целого числа и получим результат:"
      ],
      "metadata": {
        "id": "nDwNf6w2RS2e"
      }
    },
    {
      "cell_type": "code",
      "source": [
        "round(sample_size(mean1=0.4, mean2=-0.2, alpha=0.05, beta=0.2, power=0.8,\n",
        "                  baseline=0.4))"
      ],
      "metadata": {
        "colab": {
          "base_uri": "https://localhost:8080/"
        },
        "id": "qf67qh78RTa1",
        "outputId": "1725f11f-012f-48d8-cfba-91a0f2cad835"
      },
      "execution_count": 11,
      "outputs": [
        {
          "output_type": "execute_result",
          "data": {
            "text/plain": [
              "5"
            ]
          },
          "metadata": {},
          "execution_count": 11
        }
      ]
    },
    {
      "cell_type": "markdown",
      "source": [
        "Ответ:\n",
        "\n",
        "5 дней нам нужно держать эксперимент при alpha = 5% и beta = 20%"
      ],
      "metadata": {
        "id": "uiJxEdRQRdj2"
      }
    }
  ]
}